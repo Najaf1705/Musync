{
 "cells": [
  {
   "cell_type": "code",
   "execution_count": 16,
   "id": "9d7ee403",
   "metadata": {},
   "outputs": [],
   "source": [
    "import pandas as pd\n",
    "import numpy as np\n"
   ]
  },
  {
   "cell_type": "code",
   "execution_count": 17,
   "id": "1857af34",
   "metadata": {},
   "outputs": [],
   "source": [
    "songs=pd.read_csv(\"songs.csv\")"
   ]
  },
  {
   "cell_type": "code",
   "execution_count": 18,
   "id": "e09705f3",
   "metadata": {},
   "outputs": [],
   "source": [
    "songs=songs.drop('link',axis=1).reset_index(drop=True)"
   ]
  },
  {
   "cell_type": "code",
   "execution_count": 19,
   "id": "c57ed15a",
   "metadata": {},
   "outputs": [
    {
     "data": {
      "text/html": [
       "<div>\n",
       "<style scoped>\n",
       "    .dataframe tbody tr th:only-of-type {\n",
       "        vertical-align: middle;\n",
       "    }\n",
       "\n",
       "    .dataframe tbody tr th {\n",
       "        vertical-align: top;\n",
       "    }\n",
       "\n",
       "    .dataframe thead th {\n",
       "        text-align: right;\n",
       "    }\n",
       "</style>\n",
       "<table border=\"1\" class=\"dataframe\">\n",
       "  <thead>\n",
       "    <tr style=\"text-align: right;\">\n",
       "      <th></th>\n",
       "      <th>artist</th>\n",
       "      <th>song</th>\n",
       "      <th>text</th>\n",
       "    </tr>\n",
       "  </thead>\n",
       "  <tbody>\n",
       "    <tr>\n",
       "      <th>0</th>\n",
       "      <td>ABBA</td>\n",
       "      <td>Ahe's My Kind Of Girl</td>\n",
       "      <td>Look at her face, it's a wonderful face  \\nAnd...</td>\n",
       "    </tr>\n",
       "    <tr>\n",
       "      <th>1</th>\n",
       "      <td>ABBA</td>\n",
       "      <td>Andante, Andante</td>\n",
       "      <td>Take it easy with me, please  \\nTouch me gentl...</td>\n",
       "    </tr>\n",
       "    <tr>\n",
       "      <th>2</th>\n",
       "      <td>ABBA</td>\n",
       "      <td>As Good As New</td>\n",
       "      <td>I'll never know why I had to go  \\nWhy I had t...</td>\n",
       "    </tr>\n",
       "    <tr>\n",
       "      <th>3</th>\n",
       "      <td>ABBA</td>\n",
       "      <td>Bang</td>\n",
       "      <td>Making somebody happy is a question of give an...</td>\n",
       "    </tr>\n",
       "    <tr>\n",
       "      <th>4</th>\n",
       "      <td>ABBA</td>\n",
       "      <td>Bang-A-Boomerang</td>\n",
       "      <td>Making somebody happy is a question of give an...</td>\n",
       "    </tr>\n",
       "    <tr>\n",
       "      <th>...</th>\n",
       "      <td>...</td>\n",
       "      <td>...</td>\n",
       "      <td>...</td>\n",
       "    </tr>\n",
       "    <tr>\n",
       "      <th>57645</th>\n",
       "      <td>Ziggy Marley</td>\n",
       "      <td>Good Old Days</td>\n",
       "      <td>Irie days come on play  \\nLet the angels fly l...</td>\n",
       "    </tr>\n",
       "    <tr>\n",
       "      <th>57646</th>\n",
       "      <td>Ziggy Marley</td>\n",
       "      <td>Hand To Mouth</td>\n",
       "      <td>Power to the workers  \\nMore power  \\nPower to...</td>\n",
       "    </tr>\n",
       "    <tr>\n",
       "      <th>57647</th>\n",
       "      <td>Zwan</td>\n",
       "      <td>Come With Me</td>\n",
       "      <td>all you need  \\nis something i'll believe  \\nf...</td>\n",
       "    </tr>\n",
       "    <tr>\n",
       "      <th>57648</th>\n",
       "      <td>Zwan</td>\n",
       "      <td>Desire</td>\n",
       "      <td>northern star  \\nam i frightened  \\nwhere can ...</td>\n",
       "    </tr>\n",
       "    <tr>\n",
       "      <th>57649</th>\n",
       "      <td>Zwan</td>\n",
       "      <td>Heartsong</td>\n",
       "      <td>come in  \\nmake yourself at home  \\ni'm a bit ...</td>\n",
       "    </tr>\n",
       "  </tbody>\n",
       "</table>\n",
       "<p>57650 rows × 3 columns</p>\n",
       "</div>"
      ],
      "text/plain": [
       "             artist                   song  \\\n",
       "0              ABBA  Ahe's My Kind Of Girl   \n",
       "1              ABBA       Andante, Andante   \n",
       "2              ABBA         As Good As New   \n",
       "3              ABBA                   Bang   \n",
       "4              ABBA       Bang-A-Boomerang   \n",
       "...             ...                    ...   \n",
       "57645  Ziggy Marley          Good Old Days   \n",
       "57646  Ziggy Marley          Hand To Mouth   \n",
       "57647          Zwan           Come With Me   \n",
       "57648          Zwan                 Desire   \n",
       "57649          Zwan              Heartsong   \n",
       "\n",
       "                                                    text  \n",
       "0      Look at her face, it's a wonderful face  \\nAnd...  \n",
       "1      Take it easy with me, please  \\nTouch me gentl...  \n",
       "2      I'll never know why I had to go  \\nWhy I had t...  \n",
       "3      Making somebody happy is a question of give an...  \n",
       "4      Making somebody happy is a question of give an...  \n",
       "...                                                  ...  \n",
       "57645  Irie days come on play  \\nLet the angels fly l...  \n",
       "57646  Power to the workers  \\nMore power  \\nPower to...  \n",
       "57647  all you need  \\nis something i'll believe  \\nf...  \n",
       "57648  northern star  \\nam i frightened  \\nwhere can ...  \n",
       "57649  come in  \\nmake yourself at home  \\ni'm a bit ...  \n",
       "\n",
       "[57650 rows x 3 columns]"
      ]
     },
     "execution_count": 19,
     "metadata": {},
     "output_type": "execute_result"
    }
   ],
   "source": [
    "songs"
   ]
  },
  {
   "cell_type": "markdown",
   "id": "f4bcc2bd",
   "metadata": {},
   "source": [
    "Preprocessing\n"
   ]
  },
  {
   "cell_type": "code",
   "execution_count": 20,
   "id": "cdcc0dfe",
   "metadata": {},
   "outputs": [],
   "source": [
    "songs['text']=songs['text'].str.lower().str.replace('\\r', '').str.replace('\\n', '')"
   ]
  },
  {
   "cell_type": "code",
   "execution_count": 21,
   "id": "cec0e669",
   "metadata": {},
   "outputs": [],
   "source": [
    "# songs['text']=songs['text'].str.replace('\\\\r', '').str.replace('\\\\n', '')\n",
    "songs['song']=songs['song'].str.lower()"
   ]
  },
  {
   "cell_type": "code",
   "execution_count": 22,
   "id": "59b2bdc6",
   "metadata": {},
   "outputs": [],
   "source": [
    "songs=songs.sample(5000).reset_index(drop=True)"
   ]
  },
  {
   "cell_type": "code",
   "execution_count": 23,
   "id": "66feeb9f",
   "metadata": {},
   "outputs": [],
   "source": [
    "songs['recommend'] = None"
   ]
  },
  {
   "cell_type": "code",
   "execution_count": 24,
   "id": "7b199b0f",
   "metadata": {},
   "outputs": [
    {
     "data": {
      "text/html": [
       "<div>\n",
       "<style scoped>\n",
       "    .dataframe tbody tr th:only-of-type {\n",
       "        vertical-align: middle;\n",
       "    }\n",
       "\n",
       "    .dataframe tbody tr th {\n",
       "        vertical-align: top;\n",
       "    }\n",
       "\n",
       "    .dataframe thead th {\n",
       "        text-align: right;\n",
       "    }\n",
       "</style>\n",
       "<table border=\"1\" class=\"dataframe\">\n",
       "  <thead>\n",
       "    <tr style=\"text-align: right;\">\n",
       "      <th></th>\n",
       "      <th>artist</th>\n",
       "      <th>song</th>\n",
       "      <th>text</th>\n",
       "      <th>recommend</th>\n",
       "    </tr>\n",
       "  </thead>\n",
       "  <tbody>\n",
       "    <tr>\n",
       "      <th>0</th>\n",
       "      <td>Cheap Trick</td>\n",
       "      <td>all i really want to do</td>\n",
       "      <td>i'm in the right place just at the wrong time ...</td>\n",
       "      <td>None</td>\n",
       "    </tr>\n",
       "    <tr>\n",
       "      <th>1</th>\n",
       "      <td>Glee</td>\n",
       "      <td>like a prayer</td>\n",
       "      <td>life is a mystery, everyone must stand alone. ...</td>\n",
       "      <td>None</td>\n",
       "    </tr>\n",
       "    <tr>\n",
       "      <th>2</th>\n",
       "      <td>Hank Snow</td>\n",
       "      <td>blue, blue day</td>\n",
       "      <td>it's been a blue blue day i feel like running ...</td>\n",
       "      <td>None</td>\n",
       "    </tr>\n",
       "    <tr>\n",
       "      <th>3</th>\n",
       "      <td>Green Day</td>\n",
       "      <td>i want to be alone</td>\n",
       "      <td>[chorus]  i lock myself inside my room  i want...</td>\n",
       "      <td>None</td>\n",
       "    </tr>\n",
       "    <tr>\n",
       "      <th>4</th>\n",
       "      <td>Crowded House</td>\n",
       "      <td>heaven that i'm making</td>\n",
       "      <td>plead with my saint  wash his hands and feet  ...</td>\n",
       "      <td>None</td>\n",
       "    </tr>\n",
       "    <tr>\n",
       "      <th>...</th>\n",
       "      <td>...</td>\n",
       "      <td>...</td>\n",
       "      <td>...</td>\n",
       "      <td>...</td>\n",
       "    </tr>\n",
       "    <tr>\n",
       "      <th>4995</th>\n",
       "      <td>ZZ Top</td>\n",
       "      <td>lovething</td>\n",
       "      <td>it must have been the way that she kissed me, ...</td>\n",
       "      <td>None</td>\n",
       "    </tr>\n",
       "    <tr>\n",
       "      <th>4996</th>\n",
       "      <td>Nick Drake</td>\n",
       "      <td>time has told me</td>\n",
       "      <td>time has told me  you're a rare, rare find  a ...</td>\n",
       "      <td>None</td>\n",
       "    </tr>\n",
       "    <tr>\n",
       "      <th>4997</th>\n",
       "      <td>George Harrison</td>\n",
       "      <td>absolutely sweet marie</td>\n",
       "      <td>well, your railroad gate, you know i just can'...</td>\n",
       "      <td>None</td>\n",
       "    </tr>\n",
       "    <tr>\n",
       "      <th>4998</th>\n",
       "      <td>Heart</td>\n",
       "      <td>corduroy road</td>\n",
       "      <td>zingara why, do they speak your name?  whisper...</td>\n",
       "      <td>None</td>\n",
       "    </tr>\n",
       "    <tr>\n",
       "      <th>4999</th>\n",
       "      <td>Morrissey</td>\n",
       "      <td>honey, you know where to find me</td>\n",
       "      <td>the future is around me  i'm not gonna cry for...</td>\n",
       "      <td>None</td>\n",
       "    </tr>\n",
       "  </tbody>\n",
       "</table>\n",
       "<p>5000 rows × 4 columns</p>\n",
       "</div>"
      ],
      "text/plain": [
       "               artist                              song  \\\n",
       "0         Cheap Trick           all i really want to do   \n",
       "1                Glee                     like a prayer   \n",
       "2           Hank Snow                    blue, blue day   \n",
       "3           Green Day                i want to be alone   \n",
       "4       Crowded House            heaven that i'm making   \n",
       "...               ...                               ...   \n",
       "4995           ZZ Top                         lovething   \n",
       "4996       Nick Drake                  time has told me   \n",
       "4997  George Harrison            absolutely sweet marie   \n",
       "4998            Heart                     corduroy road   \n",
       "4999        Morrissey  honey, you know where to find me   \n",
       "\n",
       "                                                   text recommend  \n",
       "0     i'm in the right place just at the wrong time ...      None  \n",
       "1     life is a mystery, everyone must stand alone. ...      None  \n",
       "2     it's been a blue blue day i feel like running ...      None  \n",
       "3     [chorus]  i lock myself inside my room  i want...      None  \n",
       "4     plead with my saint  wash his hands and feet  ...      None  \n",
       "...                                                 ...       ...  \n",
       "4995  it must have been the way that she kissed me, ...      None  \n",
       "4996  time has told me  you're a rare, rare find  a ...      None  \n",
       "4997  well, your railroad gate, you know i just can'...      None  \n",
       "4998  zingara why, do they speak your name?  whisper...      None  \n",
       "4999  the future is around me  i'm not gonna cry for...      None  \n",
       "\n",
       "[5000 rows x 4 columns]"
      ]
     },
     "execution_count": 24,
     "metadata": {},
     "output_type": "execute_result"
    }
   ],
   "source": [
    "songs"
   ]
  },
  {
   "cell_type": "code",
   "execution_count": 25,
   "id": "51756d70",
   "metadata": {},
   "outputs": [],
   "source": [
    "import nltk\n",
    "from nltk.stem.porter import PorterStemmer"
   ]
  },
  {
   "cell_type": "code",
   "execution_count": 26,
   "id": "4957a222",
   "metadata": {},
   "outputs": [],
   "source": [
    "stemmer=PorterStemmer()"
   ]
  },
  {
   "cell_type": "code",
   "execution_count": 27,
   "id": "c50d6d05",
   "metadata": {},
   "outputs": [],
   "source": [
    "def token(elm):\n",
    "  tok=nltk.word_tokenize(elm)\n",
    "  a=[stemmer.stem(x) for x in tok]\n",
    "  return ' '.join(a)"
   ]
  },
  {
   "cell_type": "code",
   "execution_count": 28,
   "id": "d2e8a573",
   "metadata": {},
   "outputs": [],
   "source": [
    "songs['text']=songs['text'].apply(lambda x: token(x))"
   ]
  },
  {
   "cell_type": "code",
   "execution_count": 29,
   "id": "549e49bc",
   "metadata": {},
   "outputs": [],
   "source": [
    "songs['artist']=songs['artist'].str.lower()"
   ]
  },
  {
   "cell_type": "code",
   "execution_count": 30,
   "id": "f00f663d",
   "metadata": {},
   "outputs": [],
   "source": [
    "from sklearn.feature_extraction.text import TfidfVectorizer\n",
    "from sklearn.metrics.pairwise import cosine_similarity"
   ]
  },
  {
   "cell_type": "code",
   "execution_count": 31,
   "id": "03297557",
   "metadata": {},
   "outputs": [],
   "source": [
    "tfid=TfidfVectorizer(analyzer='word')"
   ]
  },
  {
   "cell_type": "code",
   "execution_count": 32,
   "id": "d1723148",
   "metadata": {},
   "outputs": [],
   "source": [
    "matrix=tfid.fit_transform(songs['text'])"
   ]
  },
  {
   "cell_type": "code",
   "execution_count": 33,
   "id": "aebdcc23",
   "metadata": {},
   "outputs": [],
   "source": [
    "similarity=cosine_similarity(matrix)"
   ]
  },
  {
   "cell_type": "code",
   "execution_count": 34,
   "id": "54449915",
   "metadata": {},
   "outputs": [
    {
     "data": {
      "text/plain": [
       "array([1.        , 0.12462726, 0.07466072, ..., 0.15518463, 0.06041591,\n",
       "       0.06875993])"
      ]
     },
     "execution_count": 34,
     "metadata": {},
     "output_type": "execute_result"
    }
   ],
   "source": [
    "similarity[0]"
   ]
  },
  {
   "cell_type": "markdown",
   "id": "dc91910b",
   "metadata": {},
   "source": [
    "Recommender function"
   ]
  },
  {
   "cell_type": "code",
   "execution_count": null,
   "id": "503d6220",
   "metadata": {},
   "outputs": [],
   "source": []
  },
  {
   "cell_type": "code",
   "execution_count": 35,
   "id": "5ef3195f",
   "metadata": {},
   "outputs": [],
   "source": [
    "def recommender(song_name):\n",
    "    try:\n",
    "        i = songs[songs['song'] == song_name].index[0]\n",
    "    except IndexError:\n",
    "        # Handle the case where the song doesn't exist\n",
    "        return [\"Song not found. Please provide a valid song name.\"]\n",
    "\n",
    "    distances = sorted(enumerate(similarity[i]), key=lambda x: x[1], reverse=True)\n",
    "    song_indices = [index for index, _ in distances[1:11]]  # Exclude the input song itself\n",
    "\n",
    "    recommended_songs = []\n",
    "    for index in song_indices:\n",
    "        song = songs.loc[index, 'song']\n",
    "        artist = songs.loc[index, 'artist']\n",
    "        recommended_songs.append(song + '   ' + artist)\n",
    "\n",
    "    return recommended_songs\n"
   ]
  },
  {
   "cell_type": "code",
   "execution_count": 36,
   "id": "372ba256",
   "metadata": {},
   "outputs": [],
   "source": [
    "for index, row in songs.iterrows():\n",
    "    song_name = row['song']\n",
    "    recommendations = recommender(song_name)\n",
    "    songs.at[index, 'recommend'] = recommendations"
   ]
  },
  {
   "cell_type": "code",
   "execution_count": 37,
   "id": "c0f8bbed",
   "metadata": {},
   "outputs": [
    {
     "data": {
      "text/plain": [
       "['lives in the balance   jackson browne',\n",
       " 'rhymes and reasons   john denver',\n",
       " 'looking into you   jackson browne',\n",
       " 'eldorado   neil young',\n",
       " 'the house you live in   gordon lightfoot',\n",
       " 'kid a   radiohead',\n",
       " '10,000 days (wings pt. 2)   tool',\n",
       " 'what are you doing the rest of your life   michael bolton',\n",
       " 'in the moment   uriah heep',\n",
       " 'river of dreams   billy joel']"
      ]
     },
     "execution_count": 37,
     "metadata": {},
     "output_type": "execute_result"
    }
   ],
   "source": [
    "songs['recommend'].iloc[84]"
   ]
  },
  {
   "cell_type": "code",
   "execution_count": 38,
   "id": "4a6dda64",
   "metadata": {},
   "outputs": [
    {
     "data": {
      "text/html": [
       "<div>\n",
       "<style scoped>\n",
       "    .dataframe tbody tr th:only-of-type {\n",
       "        vertical-align: middle;\n",
       "    }\n",
       "\n",
       "    .dataframe tbody tr th {\n",
       "        vertical-align: top;\n",
       "    }\n",
       "\n",
       "    .dataframe thead th {\n",
       "        text-align: right;\n",
       "    }\n",
       "</style>\n",
       "<table border=\"1\" class=\"dataframe\">\n",
       "  <thead>\n",
       "    <tr style=\"text-align: right;\">\n",
       "      <th></th>\n",
       "      <th>artist</th>\n",
       "      <th>song</th>\n",
       "      <th>text</th>\n",
       "      <th>recommend</th>\n",
       "    </tr>\n",
       "  </thead>\n",
       "  <tbody>\n",
       "    <tr>\n",
       "      <th>0</th>\n",
       "      <td>cheap trick</td>\n",
       "      <td>all i really want to do</td>\n",
       "      <td>i 'm in the right place just at the wrong time...</td>\n",
       "      <td>[easy once you know how   janis joplin, it don...</td>\n",
       "    </tr>\n",
       "    <tr>\n",
       "      <th>1</th>\n",
       "      <td>glee</td>\n",
       "      <td>like a prayer</td>\n",
       "      <td>life is a mysteri , everyon must stand alon . ...</td>\n",
       "      <td>[i dreamed last night   moody blues, living in...</td>\n",
       "    </tr>\n",
       "    <tr>\n",
       "      <th>2</th>\n",
       "      <td>hank snow</td>\n",
       "      <td>blue, blue day</td>\n",
       "      <td>it 's been a blue blue day i feel like run awa...</td>\n",
       "      <td>[blue, blue day   dean martin, color of the bl...</td>\n",
       "    </tr>\n",
       "    <tr>\n",
       "      <th>3</th>\n",
       "      <td>green day</td>\n",
       "      <td>i want to be alone</td>\n",
       "      <td>[ choru ] i lock myself insid my room i want t...</td>\n",
       "      <td>[leave me alone   donna summer, hero   ozzy os...</td>\n",
       "    </tr>\n",
       "    <tr>\n",
       "      <th>4</th>\n",
       "      <td>crowded house</td>\n",
       "      <td>heaven that i'm making</td>\n",
       "      <td>plead with my saint wash hi hand and feet find...</td>\n",
       "      <td>[i got shoes   johnny cash, heaven only knows ...</td>\n",
       "    </tr>\n",
       "    <tr>\n",
       "      <th>...</th>\n",
       "      <td>...</td>\n",
       "      <td>...</td>\n",
       "      <td>...</td>\n",
       "      <td>...</td>\n",
       "    </tr>\n",
       "    <tr>\n",
       "      <th>4995</th>\n",
       "      <td>zz top</td>\n",
       "      <td>lovething</td>\n",
       "      <td>it must have been the way that she kiss me , m...</td>\n",
       "      <td>[ready or not   jackson browne, sandra   dusty...</td>\n",
       "    </tr>\n",
       "    <tr>\n",
       "      <th>4996</th>\n",
       "      <td>nick drake</td>\n",
       "      <td>time has told me</td>\n",
       "      <td>time ha told me you 're a rare , rare find a t...</td>\n",
       "      <td>[you told me   the monkees, if i told you that...</td>\n",
       "    </tr>\n",
       "    <tr>\n",
       "      <th>4997</th>\n",
       "      <td>george harrison</td>\n",
       "      <td>absolutely sweet marie</td>\n",
       "      <td>well , your railroad gate , you know i just ca...</td>\n",
       "      <td>[mary, did you know?   christmas songs, hold y...</td>\n",
       "    </tr>\n",
       "    <tr>\n",
       "      <th>4998</th>\n",
       "      <td>heart</td>\n",
       "      <td>corduroy road</td>\n",
       "      <td>zingara whi , do they speak your name ? whispe...</td>\n",
       "      <td>[down to the water   america, honey hole   lyn...</td>\n",
       "    </tr>\n",
       "    <tr>\n",
       "      <th>4999</th>\n",
       "      <td>morrissey</td>\n",
       "      <td>honey, you know where to find me</td>\n",
       "      <td>the futur is around me i 'm not gon na cri for...</td>\n",
       "      <td>[nobody's fool   avril lavigne, oo la la la   ...</td>\n",
       "    </tr>\n",
       "  </tbody>\n",
       "</table>\n",
       "<p>5000 rows × 4 columns</p>\n",
       "</div>"
      ],
      "text/plain": [
       "               artist                              song  \\\n",
       "0         cheap trick           all i really want to do   \n",
       "1                glee                     like a prayer   \n",
       "2           hank snow                    blue, blue day   \n",
       "3           green day                i want to be alone   \n",
       "4       crowded house            heaven that i'm making   \n",
       "...               ...                               ...   \n",
       "4995           zz top                         lovething   \n",
       "4996       nick drake                  time has told me   \n",
       "4997  george harrison            absolutely sweet marie   \n",
       "4998            heart                     corduroy road   \n",
       "4999        morrissey  honey, you know where to find me   \n",
       "\n",
       "                                                   text  \\\n",
       "0     i 'm in the right place just at the wrong time...   \n",
       "1     life is a mysteri , everyon must stand alon . ...   \n",
       "2     it 's been a blue blue day i feel like run awa...   \n",
       "3     [ choru ] i lock myself insid my room i want t...   \n",
       "4     plead with my saint wash hi hand and feet find...   \n",
       "...                                                 ...   \n",
       "4995  it must have been the way that she kiss me , m...   \n",
       "4996  time ha told me you 're a rare , rare find a t...   \n",
       "4997  well , your railroad gate , you know i just ca...   \n",
       "4998  zingara whi , do they speak your name ? whispe...   \n",
       "4999  the futur is around me i 'm not gon na cri for...   \n",
       "\n",
       "                                              recommend  \n",
       "0     [easy once you know how   janis joplin, it don...  \n",
       "1     [i dreamed last night   moody blues, living in...  \n",
       "2     [blue, blue day   dean martin, color of the bl...  \n",
       "3     [leave me alone   donna summer, hero   ozzy os...  \n",
       "4     [i got shoes   johnny cash, heaven only knows ...  \n",
       "...                                                 ...  \n",
       "4995  [ready or not   jackson browne, sandra   dusty...  \n",
       "4996  [you told me   the monkees, if i told you that...  \n",
       "4997  [mary, did you know?   christmas songs, hold y...  \n",
       "4998  [down to the water   america, honey hole   lyn...  \n",
       "4999  [nobody's fool   avril lavigne, oo la la la   ...  \n",
       "\n",
       "[5000 rows x 4 columns]"
      ]
     },
     "execution_count": 38,
     "metadata": {},
     "output_type": "execute_result"
    }
   ],
   "source": [
    "songs"
   ]
  },
  {
   "cell_type": "markdown",
   "id": "f6ff97c4",
   "metadata": {},
   "source": []
  },
  {
   "cell_type": "code",
   "execution_count": 39,
   "id": "c1271bb6",
   "metadata": {},
   "outputs": [],
   "source": [
    "import json\n",
    "\n",
    "data_to_export = {\n",
    "    \"songs\": songs.to_dict(orient=\"records\")\n",
    "}\n",
    "\n",
    "with open('songsmodel.json', 'w') as file:\n",
    "    json.dump(data_to_export, file)"
   ]
  },
  {
   "cell_type": "code",
   "execution_count": 40,
   "id": "a2bd6217",
   "metadata": {},
   "outputs": [],
   "source": [
    "# recommendation = recommender('alone')\n",
    "# print(recommendation)"
   ]
  }
 ],
 "metadata": {
  "kernelspec": {
   "display_name": "Python 3",
   "language": "python",
   "name": "python3"
  },
  "language_info": {
   "codemirror_mode": {
    "name": "ipython",
    "version": 3
   },
   "file_extension": ".py",
   "mimetype": "text/x-python",
   "name": "python",
   "nbconvert_exporter": "python",
   "pygments_lexer": "ipython3",
   "version": "3.12.4"
  }
 },
 "nbformat": 4,
 "nbformat_minor": 5
}
